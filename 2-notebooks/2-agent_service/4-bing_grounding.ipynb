{
  "cells": [
    {
      "cell_type": "markdown",
      "id": "intro-bing-grounding",
      "metadata": {},
      "source": [
        "# 🍏 Health & Fitness Agent with Bing Grounding 🍎\n",
        "\n",
        "Welcome to our **Health & Fitness Agent with Bing Grounding** tutorial! In this notebook, we'll demonstrate how to:\n",
        "\n",
        "1. **Initialize** a project using Azure AI Foundry.\n",
        "2. **Create an Agent** with the **BingGroundingTool** for web search.\n",
        "3. **Ask real-world questions** about health and fitness.\n",
        "4. **Retrieve and display** answers, including Bing query URLs and disclaimers.\n",
        "\n",
        "### ⚠️ Important Model Support Note ⚠️\n",
        "> Bing grounding is currently only supported in certain Azure OpenAI models (e.g. `gpt-4o-0513`).\n",
        "> \n",
        "> Make sure you specify a supported model and set the `\"x-ms-enable-preview\": \"true\"` header.\n",
        "\n",
        "## Prerequisites\n",
        "- Complete Agent basics notebook - [1-basics.ipynb](1-basics.ipynb)\n",
        "- Grounding with Bing connection in Azure AI Foundry, which has to be provisioned from Azure portal.\n",
        "See [\"Setup Bing Grounding\"](https://learn.microsoft.com/en-us/azure/ai-services/agents/how-to/tools/bing-grounding?tabs=python&pivots=overview#setup) in the documentation for full details.\n",
        "\n",
        "<img src=\"./seq-diagrams/bing-api-key.png\" width=\"30%\"/>\n",
        "\n",
        "- A `.env` file in the parent directory containing:\n",
        "  ```bash\n",
        "  PROJECT_CONNECTION_STRING=<your-connection-string>\n",
        "  MODEL_DEPLOYMENT_NAME=<supported-model>\n",
        "  BING_CONNECTION_NAME=<the-name-of-your-bing-connection>\n",
        "  ```\n",
        "\n",
        "## Let's Explore Grounding with Bing!\n",
        "We'll integrate **Grounding with Bing** search results into our agent so it can gather extra context from the web. We'll store and display the Bing search query link for transparency. 🎉\n",
        "\n",
        "<br/>\n",
        "\n",
        "<img src=\"./seq-diagrams/4-bing-grounding.png\" width=\"30%\"/>\n"
      ]
    },
    {
      "cell_type": "markdown",
      "id": "setup-initialize",
      "metadata": {},
      "source": [
        "## 1. Initial Setup\n",
        "We'll load environment variables from `.env` and initialize our **AIProjectClient** to manage agents."
      ]
    },
    {
      "cell_type": "code",
      "execution_count": 29,
      "id": "init-code",
      "metadata": {},
      "outputs": [
        {
          "name": "stdout",
          "output_type": "stream",
          "text": [
            "Found cred.json at: d:\\MLOps\\Gen Ai & MLOps Masterclass\\Materilas\\test\\ai-foundry-workshop\\cred.json\n",
            "✅ Successfully initialized AIProjectClient\n"
          ]
        }
      ],
      "source": [
        "import os\n",
        "import time\n",
        "import json\n",
        "from pathlib import Path\n",
        "\n",
        "from dotenv import load_dotenv\n",
        "from azure.identity import DefaultAzureCredential\n",
        "from azure.ai.projects import AIProjectClient\n",
        "from azure.ai.projects.models import BingGroundingTool, MessageTextContent\n",
        "\n",
        "def find_cred_json(start_path):\n",
        "    # Start from current directory and go up\n",
        "    current = Path(start_path)\n",
        "    while current != current.parent:  # while we haven't hit the root\n",
        "        cred_file = current / 'cred.json'\n",
        "        if cred_file.exists():\n",
        "            return str(cred_file)\n",
        "        current = current.parent\n",
        "    return None\n",
        "\n",
        "try:\n",
        "    # Search in the parent directory and its subdirectories\n",
        "    parent_dir = os.path.dirname(os.getcwd())  # Get parent directory\n",
        "    file_path = find_cred_json(parent_dir)\n",
        "\n",
        "    if not file_path:\n",
        "        raise FileNotFoundError(\"cred.json not found in parent directories\")\n",
        "\n",
        "    print(f\"Found cred.json at: {file_path}\")\n",
        "\n",
        "    # Load and parse the JSON file\n",
        "    with open(file_path, 'r') as f:\n",
        "        loaded_config = json.load(f)\n",
        "\n",
        "    project_client = AIProjectClient.from_connection_string(\n",
        "        credential=DefaultAzureCredential(),\n",
        "        conn_str=loaded_config.get(\"PROJECT_CONNECTION_STRING\")\n",
        "    )\n",
        "    print(\"✅ Successfully initialized AIProjectClient\")\n",
        "except Exception as e:\n",
        "    print(f\"❌ Error initializing project client: {e}\")"
      ]
    },
    {
      "cell_type": "markdown",
      "id": "create-agent-with-bing-grounding",
      "metadata": {},
      "source": [
        "## 2. Create Bing-Grounded Agent 🌐\n",
        "We'll fetch our Bing connection from AI Foundry and use `BingGroundingTool` to let our agent search the web. Then we'll create a new agent with disclaimers about not being a doctor, etc.\n",
        "\n",
        "Make sure your `MODEL_DEPLOYMENT_NAME` is set to a Bing-supported model (for example, `gpt-4o-0513`) and that you add the header `{\"x-ms-enable-preview\": \"true\"}`."
      ]
    },
    {
      "cell_type": "code",
      "execution_count": 30,
      "id": "agent-bing-code",
      "metadata": {},
      "outputs": [
        {
          "name": "stdout",
          "output_type": "stream",
          "text": [
            "Bing Connection Name: groundingwithbing\n",
            "Bing Connection ID: /subscriptions/1c2fd79b-ad21-4ad0-8d53-12de16650452/resourceGroups/rg-sarath-1834_ai/providers/Microsoft.MachineLearningServices/workspaces/sarath-1178/connections/groundingwithbing\n",
            "🎉 Created Bing-grounded agent, ID: asst_Kgjk7f3LgUMQrV0Gk6HJGulJ\n"
          ]
        }
      ],
      "source": [
        "def create_bing_grounded_agent():\n",
        "    \"\"\"Create an agent that can use Bing to ground queries with up-to-date info.\"\"\"\n",
        "    try:\n",
        "        # 1. Retrieve Bing connection from your AI Foundry project\n",
        "        bing_conn_name = loaded_config.get(\"BING_CONNECTION_NAME\")\n",
        "        print(f\"Bing Connection Name: {bing_conn_name}\")\n",
        "        if not bing_conn_name:\n",
        "            raise ValueError(\"BING_CONNECTION_NAME not set in .env\")\n",
        "\n",
        "        bing_connection = project_client.connections.get(connection_name=bing_conn_name)\n",
        "        conn_id = bing_connection.id\n",
        "        print(f\"Bing Connection ID: {conn_id}\")\n",
        "\n",
        "        # 2. Initialize Bing grounding tool\n",
        "        bing_tool = BingGroundingTool(connection_id=conn_id)\n",
        "\n",
        "        # 3. Create an agent that can search with Bing\n",
        "        agent = project_client.agents.create_agent(\n",
        "            model=loaded_config.get(\"MODEL_DEPLOYMENT_NAME\", \"gpt-35-turbo\"),\n",
        "            name=\"health-bing-agent\",\n",
        "            instructions=\"\"\"\n",
        "                You are a health and fitness assistant with Bing search capabilities.\n",
        "                Always:\n",
        "                1. Provide disclaimers that you are not a medical professional.\n",
        "                2. Encourage professional consultation.\n",
        "                3. Use Bing for real-time references.\n",
        "                4. Provide brief, helpful answers.\n",
        "            \"\"\",\n",
        "            tools=bing_tool.definitions,\n",
        "            # Must pass special preview header to use Bing grounding (subject to change)\n",
        "            headers={\"x-ms-enable-preview\": \"true\"},\n",
        "        )\n",
        "\n",
        "        print(f\"🎉 Created Bing-grounded agent, ID: {agent.id}\")\n",
        "        return agent\n",
        "    except Exception as e:\n",
        "        print(f\"❌ Error creating Bing-grounded agent: {e}\")\n",
        "        return None\n",
        "\n",
        "# Create our Bing-based agent\n",
        "bing_agent = create_bing_grounded_agent()"
      ]
    },
    {
      "cell_type": "markdown",
      "id": "create-thread",
      "metadata": {},
      "source": [
        "## 3. Starting Threads & Asking Questions 💬\n",
        "We'll create conversation threads for each user query, letting the agent search with Bing to find relevant info. We will store all `(thread, run)` pairs in a list so we can review them in the next step."
      ]
    },
    {
      "cell_type": "code",
      "execution_count": 31,
      "id": "create-thread-code",
      "metadata": {},
      "outputs": [
        {
          "name": "stdout",
          "output_type": "stream",
          "text": [
            "📝 Created a conversation thread, ID: thread_H5qk0uJj5QTgSiJBpJG51uzW\n",
            "📨 Created user message with query: 'What are some new HIIT workout trends I should know about?'\n",
            "🤖 Run finished with status: RunStatus.COMPLETED\n",
            "\n",
            "📝 Created a conversation thread, ID: thread_KvyMhe1KkFFUMTBg6GuvO7FC\n",
            "📨 Created user message with query: 'What's the current WHO recommendation for sugar intake?'\n",
            "🤖 Run finished with status: RunStatus.COMPLETED\n",
            "\n",
            "📝 Created a conversation thread, ID: thread_NQjgsG9j6gdg8tNmk5LOOHnj\n",
            "📨 Created user message with query: 'Any news on intermittent fasting for weight management?'\n",
            "🤖 Run finished with status: RunStatus.COMPLETED\n",
            "\n"
          ]
        }
      ],
      "source": [
        "bing_threads = []\n",
        "\n",
        "def ask_bing_question(agent, user_query):\n",
        "    try:\n",
        "        thread = project_client.agents.create_thread()\n",
        "        print(f\"📝 Created a conversation thread, ID: {thread.id}\")\n",
        "\n",
        "        # Post user query as a message\n",
        "        user_message = project_client.agents.create_message(\n",
        "            thread_id=thread.id,\n",
        "            role=\"user\",\n",
        "            content=user_query\n",
        "        )\n",
        "        print(f\"📨 Created user message with query: '{user_query}'\")\n",
        "\n",
        "        # Process the query with the agent\n",
        "        run = project_client.agents.create_and_process_run(\n",
        "            thread_id=thread.id,\n",
        "            assistant_id=agent.id\n",
        "        )\n",
        "        print(f\"🤖 Run finished with status: {run.status}\\n\")\n",
        "        if run.last_error:\n",
        "            print(f\"Error detail: {run.last_error}\\n\")\n",
        "\n",
        "        return thread, run\n",
        "    except Exception as e:\n",
        "        print(f\"❌ Error asking Bing question: {e}\")\n",
        "        return None, None\n",
        "\n",
        "if bing_agent:\n",
        "    # We'll ask a few fun questions!\n",
        "    questions = [\n",
        "        \"What are some new HIIT workout trends I should know about?\",\n",
        "        \"What's the current WHO recommendation for sugar intake?\",\n",
        "        \"Any news on intermittent fasting for weight management?\"\n",
        "    ]\n",
        "\n",
        "    for q in questions:\n",
        "        thr, rn = ask_bing_question(bing_agent, q)\n",
        "        if thr and rn:\n",
        "            bing_threads.append((thr, rn))"
      ]
    },
    {
      "cell_type": "markdown",
      "id": "view-thread",
      "metadata": {},
      "source": [
        "## 4. Viewing Bing-Grounded Answers & Query URLs\n",
        "We’ll retrieve each thread's messages, printing both the user queries and the agent's responses. We'll also fetch the run steps to display the **Bing Search Query URL** (so you can comply with the requirement to show where the data came from). You can replace `api.bing.microsoft.com` with `www.bing.com` to form a user-friendly link.\n",
        "\n",
        "Because `RunStep` objects do **not** have `.details`, we look instead for `'request_url'` in `step[\"parameters\"]`. If found, it's presumably the Bing step."
      ]
    },
    {
      "cell_type": "code",
      "execution_count": 32,
      "id": "view-thread-code",
      "metadata": {},
      "outputs": [
        {
          "name": "stdout",
          "output_type": "stream",
          "text": [
            "\n",
            "🗣️ Conversation for thread: thread_H5qk0uJj5QTgSiJBpJG51uzW\n",
            "USER: What are some new HIIT workout trends I should know about?\n",
            "\n",
            "ASSISTANT: One new HIIT workout trend for 2025 is the 2-2-10 method, which suggests doing two days of strength training mixed in with two days of HIIT training【3†source】.\n",
            "\n",
            "\n",
            "🔎 Bing run steps:\n",
            "\n",
            "🗣️ Conversation for thread: thread_KvyMhe1KkFFUMTBg6GuvO7FC\n",
            "USER: What's the current WHO recommendation for sugar intake?\n",
            "\n",
            "ASSISTANT: The current recommendation from the Dietary Guidelines for Americans 2020-2025 and the Centers for Disease Control and Prevention (CDC) is to limit added sugars intake to less than 10% of total daily calories for individuals aged 2 years or older. For a 2,000 calorie diet, this translates to no more than 200 calories from added sugars, which is approximately equal to 12 teaspoons of added sugar from both food and beverages【3:1†source】.\n",
            "\n",
            "\n",
            "🔎 Bing run steps:\n",
            "\n",
            "🗣️ Conversation for thread: thread_NQjgsG9j6gdg8tNmk5LOOHnj\n",
            "USER: Any news on intermittent fasting for weight management?\n",
            "\n",
            "ASSISTANT: Intermittent fasting has been shown to be effective for weight loss and improving cardiovascular health in people with obesity problems. One study revealed that not eating anything from 5 p.m. until 9 a.m. the following day (early fasting) can help improve blood sugar regulation and reduce abdominal subcutaneous fat, particularly the fat just under the skin. This method involves reducing the number of hours of intake and extending the hours of fasting each day, and has been found to be an effective strategy for losing weight and improving cardiovascular health. Overall, intermittent fasting is presented as a safe and promising strategy for managing body weight and improving cardiovascular health in individuals who are overweight or obese【3†source】.\n",
            "\n",
            "\n",
            "🔎 Bing run steps:\n"
          ]
        }
      ],
      "source": [
        "def view_bing_conversation(thread_id, run_id):\n",
        "    try:\n",
        "        # Print conversation\n",
        "        messages = project_client.agents.list_messages(thread_id=thread_id)\n",
        "        print(\"\\n🗣️ Conversation for thread:\", thread_id)\n",
        "        reversed_msgs = list(reversed(messages.data))  # oldest first\n",
        "        for msg in reversed_msgs:\n",
        "            role = msg.role.upper()\n",
        "            if msg.content:\n",
        "                for c in msg.content:\n",
        "                    if hasattr(c, 'text') and c.text:\n",
        "                        print(f\"{role}: {c.text.value}\\n\")\n",
        "\n",
        "        # Retrieve run steps to get Bing search query link\n",
        "        run_steps = project_client.agents.list_run_steps(thread_id=thread_id, run_id=run_id)\n",
        "        steps_data = run_steps.get('data', [])\n",
        "        if steps_data:\n",
        "            print(\"\\n🔎 Bing run steps:\")\n",
        "            for step in steps_data:\n",
        "                # 'parameters' is typically where BingGroundingTool stores request_url\n",
        "                params = step.get('parameters', {})\n",
        "                if 'request_url' in params:\n",
        "                    original_url = params['request_url']\n",
        "                    friendly_url = original_url.replace(\"api.bing.microsoft.com\", \"www.bing.com\")\n",
        "                    print(f\"    Bing search URL: {friendly_url}\")\n",
        "        else:\n",
        "            print(\"No run step data found for this conversation.\")\n",
        "    except Exception as e:\n",
        "        print(f\"❌ Error viewing Bing conversation: {e}\")\n",
        "\n",
        "# Display all queries and agent responses\n",
        "if bing_threads:\n",
        "    for (thr, rn) in bing_threads:\n",
        "        view_bing_conversation(thr.id, rn.id)"
      ]
    },
    {
      "cell_type": "markdown",
      "id": "cleanup",
      "metadata": {},
      "source": [
        "## 5. Cleanup & Best Practices\n",
        "You can optionally delete the agent once you're done. In production, you might keep it around for repeated usage.\n",
        "\n",
        "### Best Practices\n",
        "1. **Accuracy** – Bing search results may include disclaimers or partial info. Encourage verification with credible sources.\n",
        "2. **Bing Query Display** – For compliance with Bing's use and display requirements, show both **website URLs** (in the agent's response) and **Bing search query URLs** (shown above). If the model includes citations, display them as well.\n",
        "3. **Limits** – Keep an eye on usage, rate limits, or policy constraints for Bing.\n",
        "4. **Privacy** – Filter search queries to avoid sending sensitive data.\n",
        "5. **Evaluations** – Use `azure-ai-evaluation` for iterative improvement.\n"
      ]
    },
    {
      "cell_type": "code",
      "execution_count": 33,
      "id": "cleanup-code",
      "metadata": {},
      "outputs": [
        {
          "name": "stdout",
          "output_type": "stream",
          "text": [
            "🗑️ Deleted Bing-grounded agent: health-bing-agent\n"
          ]
        }
      ],
      "source": [
        "def cleanup_bing_agent(agent):\n",
        "    if agent:\n",
        "        try:\n",
        "            project_client.agents.delete_agent(agent.id)\n",
        "            print(f\"🗑️ Deleted Bing-grounded agent: {agent.name}\")\n",
        "        except Exception as e:\n",
        "            print(f\"❌ Error cleaning up agent: {e}\")\n",
        "    else:\n",
        "        print(\"No agent to clean up.\")\n",
        "\n",
        "# Uncomment if you want to remove the agent now\n",
        "cleanup_bing_agent(bing_agent)"
      ]
    },
    {
      "cell_type": "markdown",
      "id": "final-note",
      "metadata": {},
      "source": [
        "# Congratulations! 🎉\n",
        "You've built a **Bing-Grounded Health & Fitness Agent** that can:\n",
        "1. **Search** the web with Bing.\n",
        "2. **Answer** health/fitness questions with disclaimers.\n",
        "3. **Include** references and Bing search query links.\n",
        "\n",
        "Feel free to expand this approach by combining the BingGroundingTool with other tools (e.g., **FileSearchTool**, **CodeInterpreterTool**) to build a robust advisor.\n",
        "\n",
        "#### Let's proceed to [5-agents-aisearch.ipynb](./5-agents-aisearch.ipynb)"
      ]
    }
  ],
  "metadata": {
    "kernelspec": {
      "display_name": ".venv",
      "language": "python",
      "name": "python3"
    },
    "language_info": {
      "codemirror_mode": {
        "name": "ipython",
        "version": 3
      },
      "file_extension": ".py",
      "mimetype": "text/x-python",
      "name": "python",
      "nbconvert_exporter": "python",
      "pygments_lexer": "ipython3",
      "version": "3.12.5"
    }
  },
  "nbformat": 4,
  "nbformat_minor": 5
}
