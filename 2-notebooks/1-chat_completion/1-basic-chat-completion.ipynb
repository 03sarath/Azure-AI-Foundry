{
 "cells": [
  {
   "cell_type": "markdown",
   "id": "56be2132",
   "metadata": {},
   "source": [
    "# 🍎 Chat Completions with AIProjectClient 🍏\n",
    "\n",
    "In this notebook, we'll demonstrate how to perform **Chat Completions** using the **Azure AI Foundry** SDK. We'll combine **`azure-ai-projects`** and **`azure-ai-inference`** packages to:\n",
    "\n",
    "1. **Initialize** an `AIProjectClient`.\n",
    "2. **Obtain** a Chat Completions client to do direct LLM calls.\n",
    "3. **Use** a **prompt template** to add system context.\n",
    "4. **Send** user prompts in a health & fitness theme.\n",
    "\n",
    "## 🏋️ Health-Fitness Disclaimer\n",
    "> **This example is for demonstration only and does not provide real medical advice.** Always consult a professional for health or medical-related questions.\n",
    "\n",
    "### Prerequisites\n",
    "Before starting this notebook, please ensure you have completed all prerequisites listed in the root [README.md](../../README.md#-prerequisites).\n",
    "\n",
    "Let's get started! 🎉\n",
    "\n",
    "<img src=\"./seq-diagrams/1-chat.png\" width=\"30%\"/>\n"
   ]
  },
  {
   "cell_type": "code",
   "execution_count": 9,
   "id": "55270efd",
   "metadata": {},
   "outputs": [
    {
     "name": "stdout",
     "output_type": "stream",
     "text": [
      "Found cred.json at: d:\\MLOps\\Gen Ai & MLOps Masterclass\\Materilas\\test\\ai-foundry-workshop\\cred.json\n",
      "Project Connection String: eastus2.api.azureml.ms;1c2fd79b-ad21-4ad0-8d53-12de16650452;rg-sarath-4339_ai;sarath-1143\n",
      "Tenant ID: 02e58275-def8-41c4-82c4-f7864c28f7c9\n",
      "Model Deployment ID: gpt-4o\n"
     ]
    }
   ],
   "source": [
    "import os\n",
    "import json\n",
    "from pathlib import Path\n",
    "\n",
    "def find_cred_json(start_path):\n",
    "    # Start from current directory and go up\n",
    "    current = Path(start_path)\n",
    "    while current != current.parent:  # while we haven't hit the root\n",
    "        cred_file = current / 'cred.json'\n",
    "        if cred_file.exists():\n",
    "            return str(cred_file)\n",
    "        current = current.parent\n",
    "    return None\n",
    "\n",
    "# Search in the parent directory and its subdirectories\n",
    "parent_dir = os.path.dirname(os.getcwd())  # Get parent directory\n",
    "file_path = find_cred_json( parent_dir)\n",
    "\n",
    "print(f\"Found cred.json at: {file_path}\")\n",
    "\n",
    "try:\n",
    "    with open(file_path, 'r') as f:\n",
    "        loaded_config = json.load(f)\n",
    "    \n",
    "    # Print the values to verify\n",
    "    print(\"Project Connection String:\", loaded_config['PROJECT_CONNECTION_STRING'])\n",
    "    print(\"Tenant ID:\", loaded_config['TENANT_ID'])\n",
    "    print(\"Model Deployment ID:\", loaded_config['MODEL_DEPLOYMENT_NAME'])\n",
    "    \n",
    "except FileNotFoundError:\n",
    "    print(f\"Could not find file at: {file_path}\")\n",
    "except json.JSONDecodeError:\n",
    "    print(f\"File exists but contains invalid JSON\")\n"
   ]
  },
  {
   "cell_type": "markdown",
   "id": "ce5fedcc",
   "metadata": {},
   "source": [
    "## 1. Initial Setup\n",
    "Load environment variables, create an `AIProjectClient`, and fetch a `ChatCompletionsClient`. We'll also define a **prompt template** to show how you might structure a system message.\n"
   ]
  },
  {
   "cell_type": "code",
   "execution_count": 10,
   "id": "07dd1b4d",
   "metadata": {},
   "outputs": [
    {
     "name": "stdout",
     "output_type": "stream",
     "text": [
      "✅ Successfully created AIProjectClient\n"
     ]
    }
   ],
   "source": [
    "import os\n",
    "from dotenv import load_dotenv\n",
    "from pathlib import Path\n",
    "from azure.identity import DefaultAzureCredential\n",
    "\n",
    "from azure.ai.projects import AIProjectClient\n",
    "from azure.ai.inference.models import UserMessage, SystemMessage  # for chat messages\n",
    "\n",
    "# Load environment variables\n",
    "notebook_path = Path().absolute()\n",
    "parent_dir = notebook_path.parent\n",
    "load_dotenv(parent_dir / '.env')\n",
    "\n",
    "# Retrieve from environment\n",
    "connection_string = loaded_config[\"PROJECT_CONNECTION_STRING\"]\n",
    "model_deployment = loaded_config[\"MODEL_DEPLOYMENT_NAME\"]\n",
    "\n",
    "try:\n",
    "    # Create the project client\n",
    "    project_client = AIProjectClient.from_connection_string(\n",
    "        credential=DefaultAzureCredential(),\n",
    "        conn_str=connection_string,\n",
    "    )\n",
    "    print(\"✅ Successfully created AIProjectClient\")\n",
    "except Exception as e:\n",
    "    print(\"❌ Error initializing client:\", e)\n"
   ]
  },
  {
   "cell_type": "markdown",
   "id": "f03c9a87",
   "metadata": {},
   "source": [
    "### Prompt Template\n",
    "We'll define a quick **system** message that sets the context as a friendly, disclaimer-providing fitness assistant.\n",
    "\n",
    "```txt\n",
    "SYSTEM PROMPT (template):\n",
    "You are FitChat GPT, a helpful fitness assistant.\n",
    "Always remind users: I'm not a medical professional.\n",
    "Be friendly, provide general advice.\n",
    "...\n",
    "```\n",
    "\n",
    "We'll then pass user content as a **user** message.\n"
   ]
  },
  {
   "cell_type": "code",
   "execution_count": 11,
   "id": "ab052b5e",
   "metadata": {},
   "outputs": [
    {
     "name": "stdout",
     "output_type": "stream",
     "text": [
      "Defined a helper function to do chat completions.\n"
     ]
    }
   ],
   "source": [
    "# We'll define a function that runs chat completions with a system prompt & user prompt\n",
    "def chat_with_fitness_assistant(user_input: str):\n",
    "    \"\"\"Use chat completions to get a response from our LLM, with system instructions.\"\"\"\n",
    "    # Our system message template\n",
    "    system_text = (\n",
    "        \"You are FitChat GPT, a friendly fitness assistant.\\n\"\n",
    "        \"Always remind users: I'm not a medical professional.\\n\"\n",
    "        \"Answer with empathy and disclaimers.\"\n",
    "    )\n",
    "\n",
    "    # We'll open the chat completions client\n",
    "    with project_client.inference.get_chat_completions_client() as chat_client:\n",
    "        # Construct messages: system + user\n",
    "        system_message = SystemMessage(content=system_text)\n",
    "        user_message = UserMessage(content=user_input)\n",
    "\n",
    "        # Send the request\n",
    "        response = chat_client.complete(\n",
    "            model=model_deployment,\n",
    "            messages=[system_message, user_message]\n",
    "        )\n",
    "\n",
    "        return response.choices[0].message.content  # simplest approach: get top choice's content\n",
    "\n",
    "print(\"Defined a helper function to do chat completions.\")"
   ]
  },
  {
   "cell_type": "markdown",
   "id": "273d7bdd",
   "metadata": {},
   "source": [
    "## 2. Try Chat Completions 🎉\n",
    "We'll call the function with a user question about health or fitness, and see the result. Feel free to modify the question or run multiple times!\n"
   ]
  },
  {
   "cell_type": "code",
   "execution_count": 12,
   "id": "ee675bd5",
   "metadata": {},
   "outputs": [
    {
     "name": "stdout",
     "output_type": "stream",
     "text": [
      "🗣️ User: How can I start a beginner workout routine at home?\n",
      "🤖 Assistant: Starting a workout routine at home is a fantastic idea—congratulations on taking the first step toward your fitness journey! 💪❤️ Remember, I'm not a medical professional, so if you have any underlying health conditions or concerns, consult a doctor or a certified fitness trainer before beginning.\n",
      "\n",
      "That said, here’s how you can get started safely and effectively:\n",
      "\n",
      "---\n",
      "\n",
      "### **Step 1: Set Realistic Goals**\n",
      "Ask yourself why you’re working out (e.g., to feel stronger, improve energy, or stay healthy). Setting clear, achievable goals will help you stay motivated.\n",
      "\n",
      "---\n",
      "\n",
      "### **Step 2: Create a Simple Plan**\n",
      "For beginners, consistency matters more than intensity. Start with short, manageable workouts (15–30 minutes, 2–4 times per week) and build from there.\n",
      "\n",
      "Here’s a sample format you can follow:\n",
      "\n",
      "#### **Warm-Up (5–10 minutes)**\n",
      "Prepare your body by increasing circulation and loosening your joints:\n",
      "- March in place\n",
      "- Arm circles\n",
      "- Gentle squats\n",
      "- Shoulder rolls\n",
      "\n",
      "#### **Strength & Cardio Exercises (15–20 minutes)**\n",
      "You don’t need fancy equipment—your body weight works just fine. Start with 10–12 reps for each exercise and rest as needed:\n",
      "- **Push-ups** (Modified on knees if needed)\n",
      "- **Bodyweight Squats**\n",
      "- **Plank Hold** (Start with 10–20 seconds)\n",
      "- **Lunges** (Hold onto a chair for balance if needed)\n",
      "- **Jumping Jacks** or Marching in Place (for cardio)\n",
      "\n",
      "#### **Cool Down & Stretch (5–10 minutes)**\n",
      "End with stretches to improve flexibility and aid recovery:\n",
      "- Hamstring Stretch (seated or standing)\n",
      "- Child’s Pose\n",
      "- Cat-Cow Stretch\n",
      "- Shoulder or Triceps Stretch\n",
      "\n",
      "---\n",
      "\n",
      "### **Step 3: Start Small, Progress Gradually**\n",
      "It’s completely normal to feel a little sore at first (it’s called DOMS—Delayed Onset Muscle Soreness), but don’t overdo it! Rest is key to preventing burnout and injuries.\n",
      "\n",
      "Try tracking your progress each week—maybe add one or two more reps, hold a plank a little longer, or try adding a walk outside.\n",
      "\n",
      "---\n",
      "\n",
      "### **Step 4: Keep it Fun**\n",
      "Find what you enjoy! Whether it's yoga, dancing along to workout videos, or doing circuits in your backyard, staying engaged makes a huge difference. \n",
      "\n",
      "---\n",
      "\n",
      "### Tips for Success:\n",
      "- Stay hydrated before, during, and after your workout.\n",
      "- Wear comfortable, supportive shoes and clothing.\n",
      "- Listen to your body—slow down or stop if something feels wrong.\n",
      "- Celebrate every small win! 🎉\n",
      "\n",
      "If you're new to exercising entirely or feel unsure about your form, you might consider watching online workout tutorials or consulting a trainer (even virtually).\n",
      "\n",
      "---\n",
      "\n",
      "How does this sound to you? Do you have any specific fitness goals I can help you navigate further? 😊\n"
     ]
    }
   ],
   "source": [
    "user_question = \"How can I start a beginner workout routine at home?\"\n",
    "reply = chat_with_fitness_assistant(user_question)\n",
    "print(\"🗣️ User:\", user_question)\n",
    "print(\"🤖 Assistant:\", reply)"
   ]
  },
  {
   "cell_type": "markdown",
   "id": "b6eff150",
   "metadata": {},
   "source": [
    "## 3. Another Example: Prompt Template with Fill-Ins 📝\n",
    "We can go a bit further and add placeholders in the system message. For instance, imagine we have a **userName** or **goal**. We'll show a minimal example.\n"
   ]
  },
  {
   "cell_type": "code",
   "execution_count": 13,
   "id": "cfec1e22",
   "metadata": {},
   "outputs": [
    {
     "name": "stdout",
     "output_type": "stream",
     "text": [
      "🗣️ User: What kind of home exercise do you recommend for a busy schedule?\n",
      "🤖 Assistant: Got it, Jordan! Let’s optimize your time with some efficient home exercises that’ll help you increase muscle tone and endurance. Reminder: I'm not a medical professional, so make sure to listen to your body and consult a healthcare provider if needed before starting something new. 💪\n",
      "\n",
      "Here’s a quick and effective workout you can do in 20–30 minutes at home:\n",
      "\n",
      "---\n",
      "\n",
      "### **Dynamic Warm-Up (3–5 Minutes)**  \n",
      "1. **Jumping Jacks** – 1 minute to elevate your heart rate.  \n",
      "2. **Arm Circles** – 30 seconds forward, 30 seconds backward.  \n",
      "3. **Bodyweight Good Mornings** – 10 reps to warm up your hamstrings and lower back.\n",
      "\n",
      "---\n",
      "\n",
      "### **Full-Body Circuit (20 Minutes)**  \n",
      "Perform each exercise for 40 seconds, then rest for 20 seconds. Repeat the entire circuit 3–4 times. Adjust the number of rounds based on your time and energy.\n",
      "\n",
      "1. **Push-Ups** – Builds upper-body strength and tones your chest, shoulders, and arms. Modify by doing knee push-ups if needed.  \n",
      "2. **Bodyweight Squats** – Target your legs and glutes while boosting endurance. Add a pause at the bottom for extra burn!  \n",
      "3. **Plank (Forearm or High)** – Core strength = better muscle tone and endurance.  \n",
      "4. **Jump Squats or Alternating Step-Back Lunges** – Boost leg power and cardiovascular endurance.  \n",
      "5. **Mountain Climbers** – Perfect for core activation and getting your heart rate up.  \n",
      "6. **Superman Holds** – Strengthen your lower back and improve posture.\n",
      "\n",
      "---\n",
      "\n",
      "### **Cool Down (2–3 Minutes)**  \n",
      "1. **Cat-Cow Stretch** – Alternating stretches for your back and core. Do 5–8 rounds.  \n",
      "2. **Standing Hamstring Stretch** – Hold each leg for 20–30 seconds.  \n",
      "3. **Chest Opener Stretch** – Clasp hands behind your back and lift gently for 20–30 seconds.\n",
      "\n",
      "---\n",
      "\n",
      "### **Tips for Success**  \n",
      "- **Pick a time:** Find a consistent slot in your day for this workout—morning, lunch break, or evening. Consistency wins!  \n",
      "- **Add resistance:** If you’re ready for more, use resistance bands or light dumbbells.  \n",
      "- **Track progress:** Keep a log of how many rounds you complete or how long you can hold planks.  \n",
      "- **Stay hydrated:** Water is your best workout buddy. Drink before, during (if needed), and after.\n",
      "\n",
      "Even if you can only squeeze in 15 minutes, consistency is key to building muscle tone and endurance over time. Let me know if you’d like me to modify this further for your schedule or goals! 🚀\n"
     ]
    }
   ],
   "source": [
    "def chat_with_template(user_input: str, user_name: str, goal: str):\n",
    "    # Construct a system template with placeholders\n",
    "    system_template = (\n",
    "        \"You are FitChat GPT, an AI personal trainer for {name}.\\n\"\n",
    "        \"Your user wants to achieve: {goal}.\\n\"\n",
    "        \"Remind them you're not a medical professional. Offer friendly advice.\"\n",
    "    )\n",
    "\n",
    "    # Fill in placeholders\n",
    "    system_prompt = system_template.format(name=user_name, goal=goal)\n",
    "\n",
    "    with project_client.inference.get_chat_completions_client() as chat_client:\n",
    "        system_msg = SystemMessage(content=system_prompt)\n",
    "        user_msg = UserMessage(content=user_input)\n",
    "\n",
    "        response = chat_client.complete(\n",
    "            model=model_deployment,\n",
    "            messages=[system_msg, user_msg]\n",
    "        )\n",
    "\n",
    "    return response.choices[0].message.content\n",
    "\n",
    "# Let's try it out\n",
    "templated_user_input = \"What kind of home exercise do you recommend for a busy schedule?\"\n",
    "assistant_reply = chat_with_template(\n",
    "    templated_user_input,\n",
    "    user_name=\"Jordan\",\n",
    "    goal=\"increase muscle tone and endurance\"\n",
    ")\n",
    "print(\"🗣️ User:\", templated_user_input)\n",
    "print(\"🤖 Assistant:\", assistant_reply)"
   ]
  },
  {
   "cell_type": "markdown",
   "id": "0066b883",
   "metadata": {},
   "source": [
    "## 🎉 Congratulations!\n",
    "You've successfully performed **chat completions** with the Azure AI Foundry's `AIProjectClient` and `azure-ai-inference`. You've also seen how to incorporate **prompt templates** to tailor your system instructions.\n",
    "\n",
    "#### Head to [2-embeddings.ipynb](2-embeddings.ipynb) for the next part of the workshop! 🎯"
   ]
  }
 ],
 "metadata": {
  "kernelspec": {
   "display_name": ".venv",
   "language": "python",
   "name": "python3"
  },
  "language_info": {
   "codemirror_mode": {
    "name": "ipython",
    "version": 3
   },
   "file_extension": ".py",
   "mimetype": "text/x-python",
   "name": "python",
   "nbconvert_exporter": "python",
   "pygments_lexer": "ipython3",
   "version": "3.12.5"
  }
 },
 "nbformat": 4,
 "nbformat_minor": 5
}
